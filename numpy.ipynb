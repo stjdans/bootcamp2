{
 "cells": [
  {
   "cell_type": "code",
   "execution_count": 4,
   "id": "afabf468",
   "metadata": {},
   "outputs": [
    {
     "data": {
      "text/plain": [
       "(1, 1, 1)"
      ]
     },
     "execution_count": 4,
     "metadata": {},
     "output_type": "execute_result"
    }
   ],
   "source": [
    "import numpy as np\n",
    "\n",
    "a = np.meshgrid([1], [2], [3])\n",
    "\n",
    "a[0].shape"
   ]
  },
  {
   "cell_type": "code",
   "execution_count": 8,
   "id": "c10156dc",
   "metadata": {},
   "outputs": [
    {
     "data": {
      "text/plain": [
       "(1, 3)"
      ]
     },
     "execution_count": 8,
     "metadata": {},
     "output_type": "execute_result"
    }
   ],
   "source": [
    "b = np.array(a)\n",
    "\n",
    "c = (b.T).reshape(-1, 3)\n",
    "\n",
    "c.shape"
   ]
  },
  {
   "cell_type": "code",
   "execution_count": 10,
   "id": "59b9ba25",
   "metadata": {},
   "outputs": [
    {
     "data": {
      "text/plain": [
       "(array([100, 177, 255], dtype=uint8),\n",
       " array([255, 100, 177], dtype=uint8),\n",
       " array([177, 255, 100], dtype=uint8))"
      ]
     },
     "execution_count": 10,
     "metadata": {},
     "output_type": "execute_result"
    }
   ],
   "source": [
    "R = np.linspace(100, 255, 3, dtype=np.uint8)\n",
    "G = np.roll(R, 1)\n",
    "B = np.roll(R, 2)\n",
    "\n",
    "R, G, B"
   ]
  },
  {
   "cell_type": "code",
   "execution_count": 15,
   "id": "d6cc6468",
   "metadata": {},
   "outputs": [
    {
     "name": "stdout",
     "output_type": "stream",
     "text": [
      "(27, 3)\n",
      "[[100 255 177]\n",
      " [100 100 177]\n",
      " [100 177 177]\n",
      " [177 255 177]\n",
      " [177 100 177]\n",
      " [177 177 177]\n",
      " [255 255 177]\n",
      " [255 100 177]\n",
      " [255 177 177]\n",
      " [100 255 255]\n",
      " [100 100 255]\n",
      " [100 177 255]\n",
      " [177 255 255]\n",
      " [177 100 255]\n",
      " [177 177 255]\n",
      " [255 255 255]\n",
      " [255 100 255]\n",
      " [255 177 255]\n",
      " [100 255 100]\n",
      " [100 100 100]\n",
      " [100 177 100]\n",
      " [177 255 100]\n",
      " [177 100 100]\n",
      " [177 177 100]\n",
      " [255 255 100]\n",
      " [255 100 100]\n",
      " [255 177 100]]\n"
     ]
    }
   ],
   "source": [
    "colors = np.array(np.meshgrid(R,G,B))\n",
    "\n",
    "colors = colors.T.reshape(-1, 3)\n",
    "print(colors.shape)\n",
    "print(colors)"
   ]
  },
  {
   "cell_type": "code",
   "execution_count": 16,
   "id": "3d1caf62",
   "metadata": {},
   "outputs": [
    {
     "data": {
      "text/plain": [
       "array([[ 0,  1,  2,  3,  4,  5,  6,  7,  8,  9],\n",
       "       [10, 11, 12, 13, 14, 15, 16, 17, 18, 19],\n",
       "       [20, 21, 22, 23, 24, 25, 26, 27, 28, 29],\n",
       "       [30, 31, 32, 33, 34, 35, 36, 37, 38, 39],\n",
       "       [40, 41, 42, 43, 44, 45, 46, 47, 48, 49],\n",
       "       [50, 51, 52, 53, 54, 55, 56, 57, 58, 59],\n",
       "       [60, 61, 62, 63, 64, 65, 66, 67, 68, 69],\n",
       "       [70, 71, 72, 73, 74, 75, 76, 77, 78, 79],\n",
       "       [80, 81, 82, 83, 84, 85, 86, 87, 88, 89],\n",
       "       [90, 91, 92, 93, 94, 95, 96, 97, 98, 99]], dtype=uint8)"
      ]
     },
     "execution_count": 16,
     "metadata": {},
     "output_type": "execute_result"
    }
   ],
   "source": [
    "a = np.arange(100, dtype=np.uint8).reshape(10,10)\n",
    "\n",
    "a"
   ]
  },
  {
   "cell_type": "code",
   "execution_count": null,
   "id": "3b7f2bfa",
   "metadata": {},
   "outputs": [],
   "source": []
  },
  {
   "cell_type": "code",
   "execution_count": 18,
   "id": "2acecbae",
   "metadata": {},
   "outputs": [
    {
     "data": {
      "text/plain": [
       "array([[  0,   1,   2,   3,   4,   5,   6,   7,   8,   9],\n",
       "       [ 10,  11,  12,  13,  14,  15,  16,  17,  18,  19],\n",
       "       [ 20,  21,  22,  23,  24,  25,  26,  27,  28,  29],\n",
       "       [ 30,  31,  32,  33,  34,  35,  36,  37,  38,  39],\n",
       "       [ 40,  41,  42,  43, 125, 125, 125, 125,  48,  49],\n",
       "       [ 50,  51,  52,  53, 125, 125, 125, 125,  58,  59],\n",
       "       [ 60,  61,  62,  63,  64,  65,  66,  67,  68,  69],\n",
       "       [ 70,  71,  72,  73,  74,  75,  76,  77,  78,  79],\n",
       "       [ 80,  81,  82,  83,  84,  85,  86,  87,  88,  89],\n",
       "       [ 90,  91,  92,  93,  94,  95,  96,  97,  98,  99]], dtype=uint8)"
      ]
     },
     "execution_count": 18,
     "metadata": {},
     "output_type": "execute_result"
    }
   ],
   "source": [
    "a[4:6, 4:8] = 125\n",
    "\n",
    "a"
   ]
  },
  {
   "cell_type": "code",
   "execution_count": 19,
   "id": "71cf32ad",
   "metadata": {},
   "outputs": [
    {
     "data": {
      "text/plain": [
       "(array([4, 4, 4, 4, 5, 5, 5, 5]), array([4, 5, 6, 7, 4, 5, 6, 7]))"
      ]
     },
     "execution_count": 19,
     "metadata": {},
     "output_type": "execute_result"
    }
   ],
   "source": [
    "indices = np.where(a >= 100)\n",
    "indices"
   ]
  },
  {
   "cell_type": "code",
   "execution_count": 24,
   "id": "bb196b5a",
   "metadata": {},
   "outputs": [
    {
     "data": {
      "text/plain": [
       "array([[4, 4],\n",
       "       [4, 5],\n",
       "       [4, 6],\n",
       "       [4, 7],\n",
       "       [5, 4],\n",
       "       [5, 5],\n",
       "       [5, 6],\n",
       "       [5, 7]])"
      ]
     },
     "execution_count": 24,
     "metadata": {},
     "output_type": "execute_result"
    }
   ],
   "source": [
    "np.array(indices).T"
   ]
  },
  {
   "cell_type": "code",
   "execution_count": 21,
   "id": "3c9dd1ef",
   "metadata": {},
   "outputs": [
    {
     "data": {
      "text/plain": [
       "array([125, 125, 125, 125, 125, 125, 125, 125], dtype=uint8)"
      ]
     },
     "execution_count": 21,
     "metadata": {},
     "output_type": "execute_result"
    }
   ],
   "source": [
    "a[indices]"
   ]
  },
  {
   "cell_type": "code",
   "execution_count": 22,
   "id": "4a442c65",
   "metadata": {},
   "outputs": [
    {
     "data": {
      "text/plain": [
       "((np.int64(4), np.int64(4)), (np.int64(7), np.int64(5)))"
      ]
     },
     "execution_count": 22,
     "metadata": {},
     "output_type": "execute_result"
    }
   ],
   "source": [
    "yy, xx = indices\n",
    "\n",
    "left, right = xx.min(), xx.max()\n",
    "top, bottom = yy.min(), yy.max()\n",
    "\n",
    "(left, top), (right, bottom)"
   ]
  }
 ],
 "metadata": {
  "kernelspec": {
   "display_name": "bootcamp",
   "language": "python",
   "name": "python3"
  },
  "language_info": {
   "codemirror_mode": {
    "name": "ipython",
    "version": 3
   },
   "file_extension": ".py",
   "mimetype": "text/x-python",
   "name": "python",
   "nbconvert_exporter": "python",
   "pygments_lexer": "ipython3",
   "version": "3.10.18"
  }
 },
 "nbformat": 4,
 "nbformat_minor": 5
}
