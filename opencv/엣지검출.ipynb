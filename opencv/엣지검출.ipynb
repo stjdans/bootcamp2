{
 "cells": [
  {
   "cell_type": "code",
   "execution_count": 33,
   "id": "bc458d1a",
   "metadata": {},
   "outputs": [
    {
     "name": "stdout",
     "output_type": "stream",
     "text": [
      "argv :  ['c:\\\\Users\\\\PC\\\\Desktop\\\\project\\\\bootcamp\\\\lib\\\\site-packages\\\\ipykernel_launcher.py', '--f=c:\\\\Users\\\\PC\\\\AppData\\\\Roaming\\\\jupyter\\\\runtime\\\\kernel-v3e8ff8aed6cfd04a50b22117d7ff9f736e5c02029.json']\n"
     ]
    }
   ],
   "source": [
    "import cv2\n",
    "import sys\n",
    "import numpy as np\n",
    "\n",
    "PREVIEW = 0\n",
    "BLUR = 1\n",
    "FEATURES = 2\n",
    "CANNY = 3\n",
    "\n",
    "feature_params = dict(\n",
    "    maxCorners=500, \n",
    "    qualityLevel=0.2,\n",
    "    minDistance=15,\n",
    "    blockSize=9\n",
    ")\n",
    "\n",
    "s = 0\n",
    "print('argv : ', sys.argv)\n",
    "if len(sys.argv) > 1:\n",
    "    s = sys.argv[1]\n",
    "    \n",
    "image_filter = CANNY\n",
    "alive = True\n",
    "\n",
    "win_name = 'Camera Filters'\n",
    "cv2.namedWindow(win_name)\n",
    "result = None\n",
    "\n",
    "source = cv2.VideoCapture('race_car.mp4')\n",
    "\n",
    "while alive:\n",
    "    has_frame, frame = source.read()\n",
    "    if not has_frame:\n",
    "        break\n",
    "    \n",
    "    frame = cv2.flip(frame, 1)\n",
    "    if image_filter == PREVIEW:\n",
    "        result = frame\n",
    "    elif image_filter == CANNY:\n",
    "        result = cv2.Canny(frame, 100, 150)\n",
    "    elif image_filter == BLUR:\n",
    "        result = cv2.blur(frame, (13,13))\n",
    "    elif image_filter == FEATURES:\n",
    "        frame_gray = cv2.cvtColor(frame, cv2.COLOR_BGR2GRAY)\n",
    "        corners = cv2.goodFeaturesToTrack(frame_gray, **feature_params)\n",
    "        result = frame\n",
    "        print(corners.shape)\n",
    "        if corners is not None:\n",
    "            for x, y in np.float32(corners).reshape(-1, 2):\n",
    "                print(f'({x},{y})')\n",
    "                \n",
    "                cv2.circle(result, (int(x), int(y)), 10, (0, 255, 0), 1)\n",
    "    \n",
    "    cv2.imshow(win_name, result)\n",
    "    \n",
    "    key = cv2.waitKey(1)\n",
    "    if key in [ord('Q'), ord('q'), 27]:\n",
    "        alive = False\n",
    "    elif key == [ord('c'), ord('C')]:\n",
    "        image_filter = CANNY\n",
    "    elif key == [ord('B'), ord('b')]:\n",
    "        image_filter = BLUR\n",
    "    elif key == [ord('F'), ord('f')]:\n",
    "        image_filter = FEATURES\n",
    "        \n",
    "source.release()\n",
    "cv2.destroyAllWindows()\n"
   ]
  },
  {
   "cell_type": "code",
   "execution_count": null,
   "id": "cf26c5bc",
   "metadata": {},
   "outputs": [],
   "source": []
  }
 ],
 "metadata": {
  "kernelspec": {
   "display_name": "bootcamp",
   "language": "python",
   "name": "python3"
  },
  "language_info": {
   "codemirror_mode": {
    "name": "ipython",
    "version": 3
   },
   "file_extension": ".py",
   "mimetype": "text/x-python",
   "name": "python",
   "nbconvert_exporter": "python",
   "pygments_lexer": "ipython3",
   "version": "3.10.8"
  }
 },
 "nbformat": 4,
 "nbformat_minor": 5
}
